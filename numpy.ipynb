{
 "cells": [
  {
   "cell_type": "markdown",
   "metadata": {},
   "source": [
    "#Libreria de numpy#"
   ]
  },
  {
   "cell_type": "code",
   "execution_count": 4,
   "metadata": {},
   "outputs": [],
   "source": [
    "import numpy as np\n",
    "a = np.zeros((2,4))"
   ]
  },
  {
   "cell_type": "code",
   "execution_count": 5,
   "metadata": {},
   "outputs": [
    {
     "data": {
      "text/plain": [
       "array([[0., 0., 0., 0.],\n",
       "       [0., 0., 0., 0.]])"
      ]
     },
     "execution_count": 5,
     "metadata": {},
     "output_type": "execute_result"
    }
   ],
   "source": [
    "a"
   ]
  },
  {
   "cell_type": "code",
   "execution_count": 6,
   "metadata": {},
   "outputs": [
    {
     "data": {
      "text/plain": [
       "(2, 4)"
      ]
     },
     "execution_count": 6,
     "metadata": {},
     "output_type": "execute_result"
    }
   ],
   "source": [
    "a.shape"
   ]
  },
  {
   "cell_type": "code",
   "execution_count": 7,
   "metadata": {},
   "outputs": [
    {
     "data": {
      "text/plain": [
       "2"
      ]
     },
     "execution_count": 7,
     "metadata": {},
     "output_type": "execute_result"
    }
   ],
   "source": [
    "a.ndim"
   ]
  },
  {
   "cell_type": "code",
   "execution_count": 8,
   "metadata": {},
   "outputs": [
    {
     "data": {
      "text/plain": [
       "8"
      ]
     },
     "execution_count": 8,
     "metadata": {},
     "output_type": "execute_result"
    }
   ],
   "source": [
    "a.size"
   ]
  },
  {
   "cell_type": "code",
   "execution_count": 9,
   "metadata": {},
   "outputs": [
    {
     "data": {
      "text/plain": [
       "array([[[1., 1., 1., 1.],\n",
       "        [1., 1., 1., 1.],\n",
       "        [1., 1., 1., 1.]],\n",
       "\n",
       "       [[1., 1., 1., 1.],\n",
       "        [1., 1., 1., 1.],\n",
       "        [1., 1., 1., 1.]]])"
      ]
     },
     "execution_count": 9,
     "metadata": {},
     "output_type": "execute_result"
    }
   ],
   "source": [
    "b = np.ones((2,3,4))\n",
    "b"
   ]
  },
  {
   "cell_type": "code",
   "execution_count": 10,
   "metadata": {},
   "outputs": [
    {
     "data": {
      "text/plain": [
       "array([[[8, 8, 8, 8],\n",
       "        [8, 8, 8, 8],\n",
       "        [8, 8, 8, 8]],\n",
       "\n",
       "       [[8, 8, 8, 8],\n",
       "        [8, 8, 8, 8],\n",
       "        [8, 8, 8, 8]]])"
      ]
     },
     "execution_count": 10,
     "metadata": {},
     "output_type": "execute_result"
    }
   ],
   "source": [
    "c = np.full((2,3,4),8)\n",
    "c"
   ]
  },
  {
   "cell_type": "code",
   "execution_count": 11,
   "metadata": {},
   "outputs": [
    {
     "data": {
      "text/plain": [
       "array([[[ 2.13393830e-316,  0.00000000e+000, -2.92815845e+126,\n",
       "          6.81160405e-310,  6.81160405e-310, -1.80554269e-050,\n",
       "          6.81160404e-310,  6.81160404e-310,  3.28408925e-075],\n",
       "        [ 6.81160405e-310,  6.81160405e-310, -6.28776753e-298,\n",
       "          6.81163680e-310,  6.81163680e-310, -3.58948083e+252,\n",
       "          6.81163667e-310,  6.81163667e-310,  3.78416488e+004],\n",
       "        [ 6.81160403e-310,  6.81160403e-310,  4.62122720e-162,\n",
       "          6.81160405e-310,  6.81160405e-310, -2.79533078e-295,\n",
       "          6.81160405e-310,  6.81160405e-310,  2.98368266e-226]],\n",
       "\n",
       "       [[ 6.81160405e-310,  6.81160405e-310,  1.11883537e+216,\n",
       "          6.81160406e-310,  6.81160406e-310,  5.16558661e-292,\n",
       "          6.81160405e-310,  6.81160405e-310, -2.67200564e-060],\n",
       "        [ 6.81160404e-310,  6.81160404e-310,  0.00000000e+000,\n",
       "          0.00000000e+000,  0.00000000e+000,  0.00000000e+000,\n",
       "          0.00000000e+000,  0.00000000e+000,  0.00000000e+000],\n",
       "        [ 0.00000000e+000,  0.00000000e+000,  3.21142670e-322,\n",
       "          2.57843770e-316,  6.81163718e-310,  0.00000000e+000,\n",
       "          2.12200958e-314,  0.00000000e+000,  0.00000000e+000]]])"
      ]
     },
     "execution_count": 11,
     "metadata": {},
     "output_type": "execute_result"
    }
   ],
   "source": [
    "d = np.empty((2,3,9))\n",
    "d"
   ]
  },
  {
   "cell_type": "code",
   "execution_count": 12,
   "metadata": {},
   "outputs": [
    {
     "data": {
      "text/plain": [
       "array([1, 2, 3])"
      ]
     },
     "execution_count": 12,
     "metadata": {},
     "output_type": "execute_result"
    }
   ],
   "source": [
    "e = np.array([1,2,3])\n",
    "e"
   ]
  },
  {
   "cell_type": "code",
   "execution_count": 13,
   "metadata": {},
   "outputs": [
    {
     "data": {
      "text/plain": [
       "array([0.        , 0.66666667, 1.33333333, 2.        , 2.66666667,\n",
       "       3.33333333, 4.        , 4.66666667, 5.33333333, 6.        ])"
      ]
     },
     "execution_count": 13,
     "metadata": {},
     "output_type": "execute_result"
    }
   ],
   "source": [
    "f = np.linspace(0,6,10)\n",
    "f"
   ]
  },
  {
   "cell_type": "code",
   "execution_count": 14,
   "metadata": {},
   "outputs": [
    {
     "data": {
      "text/plain": [
       "array([[[0.06807172, 0.92239734, 0.88520044, 0.80662463],\n",
       "        [0.89567223, 0.17425606, 0.686172  , 0.39091267],\n",
       "        [0.37298072, 0.11952037, 0.6619103 , 0.41436051]],\n",
       "\n",
       "       [[0.01475372, 0.02591147, 0.03293582, 0.81987629],\n",
       "        [0.28471084, 0.18952111, 0.89222935, 0.7594164 ],\n",
       "        [0.13053764, 0.11100945, 0.43630777, 0.42308107]]])"
      ]
     },
     "execution_count": 14,
     "metadata": {},
     "output_type": "execute_result"
    }
   ],
   "source": [
    "g = np.random.rand(2,3,4)\n",
    "g"
   ]
  },
  {
   "cell_type": "code",
   "execution_count": 17,
   "metadata": {},
   "outputs": [],
   "source": [
    "%matplotlib inline\n",
    "import matplotlib.pyplot as plt\n"
   ]
  },
  {
   "cell_type": "code",
   "execution_count": 18,
   "metadata": {},
   "outputs": [],
   "source": [
    "h = np.random.randn(100000)"
   ]
  },
  {
   "cell_type": "code",
   "execution_count": 19,
   "metadata": {},
   "outputs": [
    {
     "data": {
      "text/plain": [
       "(array([1.000e+00, 0.000e+00, 0.000e+00, 0.000e+00, 0.000e+00, 3.000e+00,\n",
       "        2.000e+00, 2.000e+00, 2.000e+00, 1.000e+00, 0.000e+00, 0.000e+00,\n",
       "        1.000e+00, 4.000e+00, 3.000e+00, 3.000e+00, 5.000e+00, 4.000e+00,\n",
       "        1.000e+01, 6.000e+00, 8.000e+00, 1.000e+01, 1.400e+01, 1.900e+01,\n",
       "        1.000e+01, 1.200e+01, 2.600e+01, 2.600e+01, 3.700e+01, 2.800e+01,\n",
       "        4.700e+01, 4.700e+01, 4.900e+01, 4.400e+01, 4.700e+01, 6.300e+01,\n",
       "        6.300e+01, 9.000e+01, 9.800e+01, 9.800e+01, 1.100e+02, 1.040e+02,\n",
       "        1.390e+02, 1.580e+02, 1.590e+02, 1.900e+02, 2.010e+02, 2.180e+02,\n",
       "        2.570e+02, 2.480e+02, 2.950e+02, 2.920e+02, 3.220e+02, 3.630e+02,\n",
       "        4.000e+02, 4.140e+02, 4.520e+02, 4.450e+02, 4.880e+02, 5.500e+02,\n",
       "        5.700e+02, 6.050e+02, 6.870e+02, 7.030e+02, 7.380e+02, 7.860e+02,\n",
       "        8.590e+02, 8.800e+02, 9.130e+02, 9.660e+02, 9.820e+02, 1.001e+03,\n",
       "        1.115e+03, 1.157e+03, 1.186e+03, 1.250e+03, 1.236e+03, 1.392e+03,\n",
       "        1.292e+03, 1.391e+03, 1.483e+03, 1.533e+03, 1.510e+03, 1.600e+03,\n",
       "        1.579e+03, 1.630e+03, 1.621e+03, 1.658e+03, 1.700e+03, 1.736e+03,\n",
       "        1.696e+03, 1.745e+03, 1.836e+03, 1.700e+03, 1.755e+03, 1.713e+03,\n",
       "        1.761e+03, 1.737e+03, 1.715e+03, 1.695e+03, 1.605e+03, 1.656e+03,\n",
       "        1.598e+03, 1.641e+03, 1.527e+03, 1.575e+03, 1.506e+03, 1.430e+03,\n",
       "        1.373e+03, 1.441e+03, 1.383e+03, 1.369e+03, 1.284e+03, 1.253e+03,\n",
       "        1.189e+03, 1.136e+03, 1.135e+03, 1.032e+03, 1.016e+03, 9.430e+02,\n",
       "        9.300e+02, 8.760e+02, 8.400e+02, 8.080e+02, 7.510e+02, 6.850e+02,\n",
       "        6.420e+02, 5.800e+02, 5.990e+02, 5.630e+02, 4.990e+02, 4.670e+02,\n",
       "        4.090e+02, 4.410e+02, 3.640e+02, 3.270e+02, 3.070e+02, 2.870e+02,\n",
       "        2.960e+02, 2.400e+02, 2.490e+02, 2.030e+02, 1.960e+02, 1.790e+02,\n",
       "        1.420e+02, 1.190e+02, 1.090e+02, 1.010e+02, 9.000e+01, 8.500e+01,\n",
       "        7.800e+01, 8.100e+01, 6.400e+01, 6.500e+01, 5.900e+01, 5.100e+01,\n",
       "        5.100e+01, 3.600e+01, 3.000e+01, 3.100e+01, 1.600e+01, 2.400e+01,\n",
       "        1.700e+01, 1.800e+01, 1.300e+01, 1.200e+01, 1.000e+01, 7.000e+00,\n",
       "        6.000e+00, 3.000e+00, 6.000e+00, 5.000e+00, 5.000e+00, 1.000e+01,\n",
       "        5.000e+00, 2.000e+00, 4.000e+00, 0.000e+00, 1.000e+00, 2.000e+00,\n",
       "        2.000e+00, 1.000e+00, 3.000e+00, 1.000e+00, 0.000e+00, 1.000e+00,\n",
       "        1.000e+00, 1.000e+00, 1.000e+00, 0.000e+00, 0.000e+00, 0.000e+00,\n",
       "        0.000e+00, 0.000e+00, 0.000e+00, 0.000e+00, 0.000e+00, 0.000e+00,\n",
       "        0.000e+00, 1.000e+00]),\n",
       " array([-4.14141813, -4.09748107, -4.05354402, -4.00960697, -3.96566992,\n",
       "        -3.92173287, -3.87779581, -3.83385876, -3.78992171, -3.74598466,\n",
       "        -3.7020476 , -3.65811055, -3.6141735 , -3.57023645, -3.52629939,\n",
       "        -3.48236234, -3.43842529, -3.39448824, -3.35055118, -3.30661413,\n",
       "        -3.26267708, -3.21874003, -3.17480297, -3.13086592, -3.08692887,\n",
       "        -3.04299182, -2.99905477, -2.95511771, -2.91118066, -2.86724361,\n",
       "        -2.82330656, -2.7793695 , -2.73543245, -2.6914954 , -2.64755835,\n",
       "        -2.60362129, -2.55968424, -2.51574719, -2.47181014, -2.42787308,\n",
       "        -2.38393603, -2.33999898, -2.29606193, -2.25212487, -2.20818782,\n",
       "        -2.16425077, -2.12031372, -2.07637667, -2.03243961, -1.98850256,\n",
       "        -1.94456551, -1.90062846, -1.8566914 , -1.81275435, -1.7688173 ,\n",
       "        -1.72488025, -1.68094319, -1.63700614, -1.59306909, -1.54913204,\n",
       "        -1.50519498, -1.46125793, -1.41732088, -1.37338383, -1.32944677,\n",
       "        -1.28550972, -1.24157267, -1.19763562, -1.15369857, -1.10976151,\n",
       "        -1.06582446, -1.02188741, -0.97795036, -0.9340133 , -0.89007625,\n",
       "        -0.8461392 , -0.80220215, -0.75826509, -0.71432804, -0.67039099,\n",
       "        -0.62645394, -0.58251688, -0.53857983, -0.49464278, -0.45070573,\n",
       "        -0.40676867, -0.36283162, -0.31889457, -0.27495752, -0.23102047,\n",
       "        -0.18708341, -0.14314636, -0.09920931, -0.05527226, -0.0113352 ,\n",
       "         0.03260185,  0.0765389 ,  0.12047595,  0.16441301,  0.20835006,\n",
       "         0.25228711,  0.29622416,  0.34016122,  0.38409827,  0.42803532,\n",
       "         0.47197237,  0.51590943,  0.55984648,  0.60378353,  0.64772058,\n",
       "         0.69165763,  0.73559469,  0.77953174,  0.82346879,  0.86740584,\n",
       "         0.9113429 ,  0.95527995,  0.999217  ,  1.04315405,  1.08709111,\n",
       "         1.13102816,  1.17496521,  1.21890226,  1.26283932,  1.30677637,\n",
       "         1.35071342,  1.39465047,  1.43858753,  1.48252458,  1.52646163,\n",
       "         1.57039868,  1.61433573,  1.65827279,  1.70220984,  1.74614689,\n",
       "         1.79008394,  1.834021  ,  1.87795805,  1.9218951 ,  1.96583215,\n",
       "         2.00976921,  2.05370626,  2.09764331,  2.14158036,  2.18551742,\n",
       "         2.22945447,  2.27339152,  2.31732857,  2.36126563,  2.40520268,\n",
       "         2.44913973,  2.49307678,  2.53701383,  2.58095089,  2.62488794,\n",
       "         2.66882499,  2.71276204,  2.7566991 ,  2.80063615,  2.8445732 ,\n",
       "         2.88851025,  2.93244731,  2.97638436,  3.02032141,  3.06425846,\n",
       "         3.10819552,  3.15213257,  3.19606962,  3.24000667,  3.28394373,\n",
       "         3.32788078,  3.37181783,  3.41575488,  3.45969193,  3.50362899,\n",
       "         3.54756604,  3.59150309,  3.63544014,  3.6793772 ,  3.72331425,\n",
       "         3.7672513 ,  3.81118835,  3.85512541,  3.89906246,  3.94299951,\n",
       "         3.98693656,  4.03087362,  4.07481067,  4.11874772,  4.16268477,\n",
       "         4.20662183,  4.25055888,  4.29449593,  4.33843298,  4.38237003,\n",
       "         4.42630709,  4.47024414,  4.51418119,  4.55811824,  4.6020553 ,\n",
       "         4.64599235]),\n",
       " <BarContainer object of 200 artists>)"
      ]
     },
     "execution_count": 19,
     "metadata": {},
     "output_type": "execute_result"
    },
    {
     "data": {
      "image/png": "[encoded data removed]",
      "text/plain": [
       "<Figure size 640x480 with 1 Axes>"
      ]
     },
     "metadata": {},
     "output_type": "display_data"
    }
   ],
   "source": [
    "plt.hist(h,bins=200)"
   ]
  },
  {
   "cell_type": "code",
   "execution_count": 20,
   "metadata": {},
   "outputs": [
    {
     "data": {
      "text/plain": [
       "<function matplotlib.pyplot.show(close=None, block=None)>"
      ]
     },
     "execution_count": 20,
     "metadata": {},
     "output_type": "execute_result"
    }
   ],
   "source": [
    "plt.show"
   ]
  },
  {
   "cell_type": "code",
   "execution_count": null,
   "metadata": {},
   "outputs": [],
   "source": []
  }
 ],
 "metadata": {
  "kernelspec": {
   "display_name": ".venv",
   "language": "python",
   "name": "python3"
  },
  "language_info": {
   "codemirror_mode": {
    "name": "ipython",
    "version": 3
   },
   "file_extension": ".py",
   "mimetype": "text/x-python",
   "name": "python",
   "nbconvert_exporter": "python",
   "pygments_lexer": "ipython3",
   "version": "3.8.10"
  }
 },
 "nbformat": 4,
 "nbformat_minor": 2
}
